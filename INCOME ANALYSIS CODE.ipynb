{
 "cells": [
  {
   "cell_type": "code",
   "execution_count": 1,
   "id": "3143ff0d",
   "metadata": {},
   "outputs": [],
   "source": [
    "import pandas as pd\n",
    "from sklearn.model_selection import train_test_split, GridSearchCV\n",
    "from sklearn.linear_model import LinearRegression\n",
    "from sklearn.tree import DecisionTreeRegressor\n",
    "from sklearn.ensemble import RandomForestRegressor, GradientBoostingRegressor\n",
    "from sklearn.svm import SVR\n",
    "from sklearn.metrics import mean_squared_error, r2_score\n",
    "from sklearn.feature_selection import SelectKBest, f_regression\n",
    "from sklearn.preprocessing import StandardScaler, OneHotEncoder\n",
    "from sklearn.compose import ColumnTransformer\n",
    "from sklearn.pipeline import Pipeline"
   ]
  },
  {
   "cell_type": "code",
   "execution_count": 2,
   "id": "59f6f5eb",
   "metadata": {},
   "outputs": [],
   "source": [
    "df = pd.read_csv('Income Analysis.csv')\n",
    "\n",
    "df['Education_Level'] = df['Education_Level'].replace({\n",
    "    \"Master's\": 'Master',\n",
    "    'High School': 'HighSchool',\n",
    "    \"Bachelor's\": 'Bachelor',\n",
    "    'Doctorate': 'Doctorate'\n",
    "})\n",
    "df['Type_of_Housing'] = df['Type_of_Housing'].replace({\n",
    "    'Apartment': 'Apartment',\n",
    "    'Single-family home': 'SingleFamilyHome',\n",
    "    'Townhouse': 'Townhouse'\n",
    "})\n",
    "df['Employment_Status'] = df['Employment_Status'].replace({\n",
    "    'Full-time': 'FullTime',\n",
    "    'Self-employed': 'SelfEmployed',\n",
    "    'Part-time': 'PartTime'\n",
    "})\n",
    "df['Primary_Mode_of_Transportation'] = df['Primary_Mode_of_Transportation'].replace({\n",
    "    'Public transit': 'PublicTransit'\n",
    "})\n"
   ]
  },
  {
   "cell_type": "code",
   "execution_count": 3,
   "id": "dfe52e8e",
   "metadata": {},
   "outputs": [],
   "source": [
    "X = df.drop('Income', axis=1)  \n",
    "y = df['Income']  "
   ]
  },
  {
   "cell_type": "code",
   "execution_count": 4,
   "id": "777420d8",
   "metadata": {},
   "outputs": [],
   "source": [
    "numerical_cols = X.select_dtypes(include=['int64', 'float64']).columns\n",
    "categorical_cols = X.select_dtypes(include=['object']).columns\n",
    "\n",
    "numerical_transformer = Pipeline(steps=[\n",
    "    ('scaler', StandardScaler())\n",
    "])\n",
    "\n",
    "categorical_transformer = Pipeline(steps=[\n",
    "    ('onehot', OneHotEncoder(handle_unknown='ignore'))\n",
    "])\n",
    "\n",
    "preprocessor = ColumnTransformer(\n",
    "    transformers=[\n",
    "        ('num', numerical_transformer, numerical_cols),\n",
    "        ('cat', categorical_transformer, categorical_cols)\n",
    "    ])\n",
    "\n",
    "pipeline = Pipeline(steps=[\n",
    "    ('preprocessor', preprocessor),\n",
    "    ('selector', SelectKBest(score_func=f_regression, k=8))\n",
    "])\n"
   ]
  },
  {
   "cell_type": "code",
   "execution_count": 5,
   "id": "11526563",
   "metadata": {},
   "outputs": [],
   "source": [
    "X_preprocessed = pipeline.fit_transform(X, y)\n",
    "X_train, X_test, y_train, y_test = train_test_split(X_preprocessed, y, test_size=0.3, random_state=42)\n"
   ]
  },
  {
   "cell_type": "code",
   "execution_count": 6,
   "id": "fe4c31c9",
   "metadata": {},
   "outputs": [],
   "source": [
    "def tune_model(model, param_grid, X_train, y_train):\n",
    "    grid_search = GridSearchCV(estimator=model, param_grid=param_grid, cv=5, n_jobs=-1, verbose=1)\n",
    "    grid_search.fit(X_train, y_train)\n",
    "    print(f\"Best parameters for {model.__class__.__name__}: {grid_search.best_params_}\")\n",
    "    return grid_search.best_estimator_\n"
   ]
  },
  {
   "cell_type": "code",
   "execution_count": 7,
   "id": "044b78c8",
   "metadata": {},
   "outputs": [],
   "source": [
    "rf_param_grid = {\n",
    "    'n_estimators': [50, 100, 200],\n",
    "    'max_depth': [None, 10, 20, 30],\n",
    "    'min_samples_split': [2, 5, 10],\n",
    "    'min_samples_leaf': [1, 2, 4]\n",
    "}\n"
   ]
  },
  {
   "cell_type": "code",
   "execution_count": 8,
   "id": "a50f3815",
   "metadata": {},
   "outputs": [
    {
     "name": "stdout",
     "output_type": "stream",
     "text": [
      "Fitting 5 folds for each of 108 candidates, totalling 540 fits\n",
      "Best parameters for RandomForestRegressor: {'max_depth': 10, 'min_samples_leaf': 4, 'min_samples_split': 10, 'n_estimators': 200}\n",
      "Fitting 5 folds for each of 243 candidates, totalling 1215 fits\n",
      "Best parameters for GradientBoostingRegressor: {'learning_rate': 0.01, 'max_depth': 7, 'min_samples_leaf': 4, 'min_samples_split': 10, 'n_estimators': 100}\n"
     ]
    }
   ],
   "source": [
    "gb_param_grid = {\n",
    "    'n_estimators': [100, 200, 300],\n",
    "    'learning_rate': [0.01, 0.1, 0.2],\n",
    "    'max_depth': [3, 5, 7],\n",
    "    'min_samples_split': [2, 5, 10],\n",
    "    'min_samples_leaf': [1, 2, 4]\n",
    "}\n",
    "\n",
    "# Tune Random Forest\n",
    "rf_model = RandomForestRegressor(random_state=42)\n",
    "best_rf = tune_model(rf_model, rf_param_grid, X_train, y_train)\n",
    "\n",
    "# Tune Gradient Boosting\n",
    "gb_model = GradientBoostingRegressor(random_state=42)\n",
    "best_gb = tune_model(gb_model, gb_param_grid, X_train, y_train)\n"
   ]
  },
  {
   "cell_type": "code",
   "execution_count": 9,
   "id": "33606a35",
   "metadata": {},
   "outputs": [
    {
     "name": "stdout",
     "output_type": "stream",
     "text": [
      "Best Random Forest:\n",
      "  Mean Squared Error: 3401293910801.29\n",
      "  R^2 Score: -0.004052823473921663\n",
      "----------------------------------------\n",
      "Best Gradient Boosting:\n",
      "  Mean Squared Error: 3334628900270.621\n",
      "  R^2 Score: 0.015626508511377923\n",
      "----------------------------------------\n"
     ]
    }
   ],
   "source": [
    "tuned_models = {\n",
    "    'Best Random Forest': best_rf,\n",
    "    'Best Gradient Boosting': best_gb\n",
    "}\n",
    "\n",
    "for name, model in tuned_models.items():\n",
    "    y_pred = model.predict(X_test)\n",
    "    mse = mean_squared_error(y_test, y_pred)\n",
    "    r2 = r2_score(y_test, y_pred)\n",
    "    print(f'{name}:')\n",
    "    print(f'  Mean Squared Error: {mse}')\n",
    "    print(f'  R^2 Score: {r2}')\n",
    "    print('-' * 40)"
   ]
  },
  {
   "cell_type": "code",
   "execution_count": 10,
   "id": "8f64346b",
   "metadata": {},
   "outputs": [],
   "source": [
    "if r2_score(y_test, best_rf.predict(X_test)) > r2_score(y_test, best_gb.predict(X_test)):\n",
    "    best_model = best_rf\n",
    "    best_model_name = 'Best Random Forest'\n",
    "else:\n",
    "    best_model = best_gb\n",
    "    best_model_name = 'Best Gradient Boosting'\n",
    "\n",
    "df['predicted_income'] = best_model.predict(pipeline.transform(X))"
   ]
  },
  {
   "cell_type": "code",
   "execution_count": 11,
   "id": "ca570352",
   "metadata": {},
   "outputs": [
    {
     "name": "stdout",
     "output_type": "stream",
     "text": [
      "The best model is: Best Gradient Boosting\n",
      "   Age Education_Level  Occupation  Number_of_Dependents Location  \\\n",
      "0   56          Master  Technology                     5    Urban   \n",
      "1   69      HighSchool     Finance                     0    Urban   \n",
      "2   46        Bachelor  Technology                     1    Urban   \n",
      "3   32      HighSchool      Others                     2    Urban   \n",
      "4   60        Bachelor     Finance                     3    Urban   \n",
      "\n",
      "   Work_Experience Marital_Status Employment_Status  Household_Size  \\\n",
      "0               21        Married          FullTime               7   \n",
      "1                4         Single          FullTime               7   \n",
      "2                1         Single          FullTime               7   \n",
      "3               32        Married          FullTime               1   \n",
      "4               15        Married      SelfEmployed               4   \n",
      "\n",
      "  Homeownership_Status   Type_of_Housing  Gender  \\\n",
      "0                  Own         Apartment    Male   \n",
      "1                  Own         Apartment    Male   \n",
      "2                  Own  SingleFamilyHome  Female   \n",
      "3                  Own         Apartment  Female   \n",
      "4                  Own         Townhouse    Male   \n",
      "\n",
      "  Primary_Mode_of_Transportation  Income  predicted_income  \n",
      "0                  PublicTransit   72510     520921.859989  \n",
      "1                         Biking   75462     979359.171770  \n",
      "2                            Car   71748     859225.324184  \n",
      "3                            Car   74520     417855.398605  \n",
      "4                        Walking  640210     495103.763583  \n"
     ]
    }
   ],
   "source": [
    "print(f'The best model is: {best_model_name}')\n",
    "print(df.head())"
   ]
  },
  {
   "cell_type": "code",
   "execution_count": null,
   "id": "98459fd7",
   "metadata": {},
   "outputs": [],
   "source": []
  }
 ],
 "metadata": {
  "kernelspec": {
   "display_name": "Python 3 (ipykernel)",
   "language": "python",
   "name": "python3"
  },
  "language_info": {
   "codemirror_mode": {
    "name": "ipython",
    "version": 3
   },
   "file_extension": ".py",
   "mimetype": "text/x-python",
   "name": "python",
   "nbconvert_exporter": "python",
   "pygments_lexer": "ipython3",
   "version": "3.10.9"
  }
 },
 "nbformat": 4,
 "nbformat_minor": 5
}
